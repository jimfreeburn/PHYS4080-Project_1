{
 "cells": [
  {
   "cell_type": "markdown",
   "metadata": {},
   "source": [
    "# N-Body Simulation\n",
    "\n",
    "We can make simulations approximating the universe's behaviour using N-body simulations.  In these simulations we use a large number of point masses (approximating galaxies) that interact gravitationally.  The following notebook will walk you through the code necessary to produce a simulation as well as the physical conclusions that we can make with our output.\n",
    "\n",
    "So grab yourself a snack and a glass of orange juice and try not to reach through the screen because HERE WE GOOO!"
   ]
  },
  {
   "cell_type": "markdown",
   "metadata": {},
   "source": [
    "## Defining Parameters\n",
    "\n",
    "In this section we will define the parameters that will dictate the evolution of our particles.  All of these parameters are in natural units.  In other words, we do not have physical constants to scale the units of our simulation.  Given the simplicity of this simulation, it is easiest to understand with these units.\n",
    "\n",
    "First we need to import our packages:"
   ]
  },
  {
   "cell_type": "code",
   "execution_count": 1,
   "metadata": {},
   "outputs": [],
   "source": [
    "import numpy as np\n",
    "from pylab import *\n",
    "import matplotlib.pyplot as plt\n",
    "import matplotlib.animation as animation\n",
    "from mpl_toolkits.mplot3d import Axes3D\n",
    "from __future__ import print_function\n",
    "from ipywidgets import interact, interactive, fixed, interact_manual\n",
    "import ipywidgets as widgets"
   ]
  },
  {
   "cell_type": "markdown",
   "metadata": {},
   "source": [
    "Our initial conditions for the positions and velocities are going to be randomised so we need to supply a seed:"
   ]
  },
  {
   "cell_type": "code",
   "execution_count": 2,
   "metadata": {},
   "outputs": [],
   "source": [
    "np.random.seed(4080)"
   ]
  },
  {
   "cell_type": "markdown",
   "metadata": {},
   "source": [
    "Choose whether you want a 2-D projection (recommended) or a 3-D projection:"
   ]
  },
  {
   "cell_type": "code",
   "execution_count": 3,
   "metadata": {
    "scrolled": true
   },
   "outputs": [],
   "source": [
    "project_3d = False"
   ]
  },
  {
   "cell_type": "code",
   "execution_count": 4,
   "metadata": {},
   "outputs": [
    {
     "name": "stdout",
     "output_type": "stream",
     "text": [
      "False\n"
     ]
    }
   ],
   "source": [
    "print(project_3d)"
   ]
  },
  {
   "cell_type": "markdown",
   "metadata": {},
   "source": [
    "Set the number of spatial dimensions (2 or 3):"
   ]
  },
  {
   "cell_type": "code",
   "execution_count": 7,
   "metadata": {},
   "outputs": [
    {
     "data": {
      "application/vnd.jupyter.widget-view+json": {
       "model_id": "fa359aebe2e648059d2513341e42afd1",
       "version_major": 2,
       "version_minor": 0
      },
      "text/plain": [
       "interactive(children=(IntSlider(value=2, description='Nd', max=3, min=2), Output()), _dom_classes=('widget-int…"
      ]
     },
     "metadata": {},
     "output_type": "display_data"
    }
   ],
   "source": [
    "output_slider_variable = widgets.Text()\n",
    "def f(Nd):\n",
    "    output_slider_variable.value = str(Nd)\n",
    "interact(f,Nd=(2,3));"
   ]
  },
  {
   "cell_type": "code",
   "execution_count": null,
   "metadata": {},
   "outputs": [],
   "source": [
    "Nd = int(output_slider_variable.value)\n",
    "print(Nd)"
   ]
  },
  {
   "cell_type": "markdown",
   "metadata": {},
   "source": [
    "Set the number of particles (or galaxies) to simulate:"
   ]
  },
  {
   "cell_type": "code",
   "execution_count": 9,
   "metadata": {},
   "outputs": [
    {
     "data": {
      "application/vnd.jupyter.widget-view+json": {
       "model_id": "ffc38f979f49473bb77ee10fccb74c39",
       "version_major": 2,
       "version_minor": 0
      },
      "text/plain": [
       "interactive(children=(IntSlider(value=505, description='Np', max=1000, min=10), Output()), _dom_classes=('widg…"
      ]
     },
     "metadata": {},
     "output_type": "display_data"
    }
   ],
   "source": [
    "def f(Np):\n",
    "    output_slider_variable.value = str(Np)\n",
    "interact(f,Np=(10,1000));"
   ]
  },
  {
   "cell_type": "code",
   "execution_count": 10,
   "metadata": {},
   "outputs": [],
   "source": [
    "Np = int(output_slider_variable.value)"
   ]
  },
  {
   "cell_type": "markdown",
   "metadata": {},
   "source": [
    "Set the total number of timesteps (i.e. how long you want the simulation to run for):"
   ]
  },
  {
   "cell_type": "code",
   "execution_count": 11,
   "metadata": {},
   "outputs": [
    {
     "data": {
      "application/vnd.jupyter.widget-view+json": {
       "model_id": "36317c9336be4845879b26913b45f668",
       "version_major": 2,
       "version_minor": 0
      },
      "text/plain": [
       "interactive(children=(IntSlider(value=505, description='Nt', max=1000, min=10), Output()), _dom_classes=('widg…"
      ]
     },
     "metadata": {},
     "output_type": "display_data"
    }
   ],
   "source": [
    "def f(Nt):\n",
    "    output_slider_variable.value = str(Nt)\n",
    "Nt = interact(f,Nt=(10,1000));"
   ]
  },
  {
   "cell_type": "code",
   "execution_count": 13,
   "metadata": {},
   "outputs": [],
   "source": [
    "Nt = int(output_slider_variable.value)"
   ]
  },
  {
   "cell_type": "markdown",
   "metadata": {},
   "source": [
    "Set how long the animation should dispay each timestep (in milliseconds):"
   ]
  },
  {
   "cell_type": "code",
   "execution_count": 14,
   "metadata": {},
   "outputs": [
    {
     "data": {
      "application/vnd.jupyter.widget-view+json": {
       "model_id": "6ed41d37dbf44e81a93f5041db9d0f49",
       "version_major": 2,
       "version_minor": 0
      },
      "text/plain": [
       "interactive(children=(IntSlider(value=505, description='frame_duration', max=1000, min=10), Output()), _dom_cl…"
      ]
     },
     "metadata": {},
     "output_type": "display_data"
    }
   ],
   "source": [
    "def f(frame_duration):\n",
    "    output_slider_variable.value = str(frame_duration)\n",
    "frame_duration = interact(f,frame_duration=(10,1000));"
   ]
  },
  {
   "cell_type": "code",
   "execution_count": 15,
   "metadata": {},
   "outputs": [],
   "source": [
    "frame_duration = int(output_slider_variable.value)"
   ]
  },
  {
   "cell_type": "markdown",
   "metadata": {},
   "source": [
    "We will randomly generate velocities for each galaxy.  v_max gives the maximum possible velocity we can generate for a given direction:"
   ]
  },
  {
   "cell_type": "code",
   "execution_count": 16,
   "metadata": {},
   "outputs": [
    {
     "data": {
      "application/vnd.jupyter.widget-view+json": {
       "model_id": "0b4584dcb1a141ca9f48309a69fa1e03",
       "version_major": 2,
       "version_minor": 0
      },
      "text/plain": [
       "interactive(children=(FloatSlider(value=0.05, description='v_max', max=0.1, step=0.01), Output()), _dom_classe…"
      ]
     },
     "metadata": {},
     "output_type": "display_data"
    }
   ],
   "source": [
    "def f(v_max):\n",
    "    output_slider_variable.value = str(v_max)\n",
    "interact(f,v_max=(0.0,0.1,0.01));"
   ]
  },
  {
   "cell_type": "code",
   "execution_count": 17,
   "metadata": {},
   "outputs": [],
   "source": [
    "v_max = double(output_slider_variable.value)"
   ]
  },
  {
   "cell_type": "markdown",
   "metadata": {},
   "source": [
    "Set the mass of all of the galaxies (recommended mass is 0.00001):"
   ]
  },
  {
   "cell_type": "code",
   "execution_count": 18,
   "metadata": {},
   "outputs": [
    {
     "data": {
      "application/vnd.jupyter.widget-view+json": {
       "model_id": "a9d1160697954dab80963efbb1be7210",
       "version_major": 2,
       "version_minor": 0
      },
      "text/plain": [
       "interactive(children=(FloatSlider(value=5e-05, description='mass', max=0.0001, step=1e-05), Output()), _dom_cl…"
      ]
     },
     "metadata": {},
     "output_type": "display_data"
    }
   ],
   "source": [
    "def f(mass):\n",
    "    output_slider_variable.value = str(mass)\n",
    "    return mass\n",
    "interact(f,mass=(0.0,1e-04,1e-05));"
   ]
  },
  {
   "cell_type": "code",
   "execution_count": 19,
   "metadata": {},
   "outputs": [],
   "source": [
    "mass = double(output_slider_variable.value)"
   ]
  },
  {
   "cell_type": "markdown",
   "metadata": {},
   "source": [
    "In the real universe, when objects get close to each other, they collide.  To reproduce this effect approximately, we will modify our gravitational equation to simulate collisions.  This is called softening and s_len gives the length at which this interaction becomes important.  Our simulation is a cube/square with a side length of 2.  Thus, our softening length should be small compared to the size of the cube:"
   ]
  },
  {
   "cell_type": "code",
   "execution_count": 21,
   "metadata": {},
   "outputs": [
    {
     "data": {
      "application/vnd.jupyter.widget-view+json": {
       "model_id": "b588943280a24431b136c2ab599be1eb",
       "version_major": 2,
       "version_minor": 0
      },
      "text/plain": [
       "interactive(children=(FloatSlider(value=0.5, description='s_len', max=1.0, step=0.001), Output()), _dom_classe…"
      ]
     },
     "metadata": {},
     "output_type": "display_data"
    }
   ],
   "source": [
    "def f(s_len):\n",
    "    output_slider_variable.value = str(s_len)\n",
    "    return s_len\n",
    "interact(f,s_len=(0.0,1.0,0.001));"
   ]
  },
  {
   "cell_type": "code",
   "execution_count": 22,
   "metadata": {},
   "outputs": [],
   "source": [
    "s_len = double(output_slider_variable.value)"
   ]
  },
  {
   "cell_type": "markdown",
   "metadata": {},
   "source": [
    "Correlation functions track the preference for galaxies to have a specific separation.  We will elaborate on this later in this notebook, but here we set the correlation function bins.  In other words we are setting the resolution of our correlation function.  It has to be small enough so that a non-negligible number of galaxies fall in each bin but large enough to give a resolution that we can make conclusions from:"
   ]
  },
  {
   "cell_type": "code",
   "execution_count": 23,
   "metadata": {},
   "outputs": [
    {
     "data": {
      "application/vnd.jupyter.widget-view+json": {
       "model_id": "a3954c01430a45fea86a235cf5396128",
       "version_major": 2,
       "version_minor": 0
      },
      "text/plain": [
       "interactive(children=(IntSlider(value=55, description='ncorrbins', min=10), Output()), _dom_classes=('widget-i…"
      ]
     },
     "metadata": {},
     "output_type": "display_data"
    }
   ],
   "source": [
    "def f(ncorrbins):\n",
    "    output_slider_variable.value = str(ncorrbins)\n",
    "    return ncorrbins\n",
    "interact(f,ncorrbins=(10,100));"
   ]
  },
  {
   "cell_type": "code",
   "execution_count": 24,
   "metadata": {},
   "outputs": [],
   "source": [
    "ncorrbins = int(output_slider_variable.value)"
   ]
  },
  {
   "cell_type": "markdown",
   "metadata": {},
   "source": [
    "Here we generate a set of initial positions and velocities.  We initialise a separate set of positions for use with our correlation function (we will elaborate on this later):"
   ]
  },
  {
   "cell_type": "code",
   "execution_count": 25,
   "metadata": {},
   "outputs": [],
   "source": [
    "#Set initial positions at random within box:\n",
    "position = 1-2*np.random.random((Nd,Np))\n",
    "\n",
    "#Set random positions for correlation function:\n",
    "rand_position = 1-2*np.random.random((Nd,Np))\n",
    "\n",
    "# Set initial velocities to be random fractions of the maximum\n",
    "velocity = v_max*(1-2*np.random.random((Nd,Np)))"
   ]
  },
  {
   "cell_type": "markdown",
   "metadata": {},
   "source": [
    "## Defining our Functions\n",
    "\n",
    "Here we define our acceleration.  We simply use the following relation for gravitation:\n",
    "\\begin{eqnarray}\n",
    "\\vec{F_i} = \\Sigma_{i \\neq j}\\frac{\\vec{r_i} - \\vec{r_j}}{|\\vec{r_i}-\\vec{r_j}|^3} \\\\\n",
    "\\end{eqnarray}\n",
    "As we stated earlier, we need to apply softening to this equation.  We chose to make it $\\frac{L_s}{r^3} - 1$ so that it only becomes important when $r$ is significant compared to $L_s$.  Scaling with our softening length $L_s$.  Thus, we have used the following relation:\n",
    "\\begin{eqnarray}\n",
    "\\vec{F_i} = \\Sigma_{i \\neq j}\\left(1 - \\frac{L_s}{|\\vec{r_i}-\\vec{r_j}|^3}\\right) \\frac{\\vec{r_i} - \\vec{r_j}}{|\\vec{r_i}-\\vec{r_j}|^3} \\\\\n",
    "\\end{eqnarray}"
   ]
  },
  {
   "cell_type": "code",
   "execution_count": 26,
   "metadata": {},
   "outputs": [],
   "source": [
    "def acceleration(mass,slen,p):\n",
    "    a = np.random.random((Nd,Np))\n",
    "    for i in range(len(p[0])):\n",
    "        for k in range(len(a)):\n",
    "            a[k][i] = 0.0\n",
    "        for j in range(len(p[0])):\n",
    "            r = 0\n",
    "            if i != j:\n",
    "                for k in range(len(a)):\n",
    "                    r += (p[k][i] - p[k][j])**2\n",
    "                for k in range(len(a)):\n",
    "                    a[k][i] += -(1 - (slen/np.sqrt(r))**3)*mass*(p[k][i] - p[k][j])/(np.sqrt(r)**3)\n",
    "    return a"
   ]
  },
  {
   "cell_type": "markdown",
   "metadata": {},
   "source": [
    "In this simulation, we are using periodic boundary conditions.  This means that our simulation area operates like Pacman, if a particle moves out of the left side of the area it will enter throught the right:"
   ]
  },
  {
   "cell_type": "code",
   "execution_count": 27,
   "metadata": {},
   "outputs": [],
   "source": [
    "# Create a function to apply boundary conditions\n",
    "def apply_boundary(p):\n",
    "    for i in range(len(p)):\n",
    "        for j in range(len(p[0])):\n",
    "            if abs(p[i][j]) > 1:\n",
    "                p[i][j] = -p[i][j]\n",
    "    return p"
   ]
  },
  {
   "cell_type": "markdown",
   "metadata": {},
   "source": [
    "Here we define a function that gives the separation between 2 masses, used in calculating the correlation function."
   ]
  },
  {
   "cell_type": "code",
   "execution_count": 28,
   "metadata": {},
   "outputs": [],
   "source": [
    "#Finds the separation between 2 masses.\n",
    "def separation(p1,p2):\n",
    "    sep = []\n",
    "    for i in range(len(p1[0])):\n",
    "        for j in range(len(p2[0])):\n",
    "            r = 0\n",
    "            if i != j:\n",
    "                for k in range(len(p1)):\n",
    "                    r += (p1[k][i] - p2[k][j])**2\n",
    "                sep.append(np.sqrt(r))\n",
    "    return sep"
   ]
  },
  {
   "cell_type": "markdown",
   "metadata": {},
   "source": [
    "Here, we define our correlation function.  Correlation functions define the departure from a random distribution across a range of length scales.  In other words, how much is 'clumpiness' is there, compared to a random distribution, at a given length scale, $r$.  We use the Landy-Szalay relation for the correlation function:\n",
    "\n",
    "\\begin{eqnarray}\n",
    "    \\zeta_{LS} = \\frac{DD(r) - 2DR(r) + RR(r)}{RR(r)}\n",
    "\\end{eqnarray}\n",
    "\n",
    "Where, at a given separation, $r$, $DD(r)$ is the density of galaxies in our simulation data, $DR(r)$ is the separation between galaxies in our data and the random distribution and $RR(r)$ is the density of galaxies in a random distribution."
   ]
  },
  {
   "cell_type": "code",
   "execution_count": 29,
   "metadata": {},
   "outputs": [],
   "source": [
    "#Correlation Function\n",
    "def correlation_func(d,r,x,dx):\n",
    "    #These vectors store the separations between data, random points and data\n",
    "    #and random points.\n",
    "    DDsep = separation(d,d)\n",
    "    DRsep = separation(d,r)\n",
    "    RRsep = separation(r,r)\n",
    "\n",
    "    #These vectors have the number of masses binned at a given separations.\n",
    "    DD = np.zeros(len(x))\n",
    "    DR = np.zeros(len(x))\n",
    "    RR = np.zeros(len(x))\n",
    "\n",
    "    for i in range(len(DDsep)):\n",
    "        for j in range(len(x)-1):\n",
    "            #If there is a separation within a given bin, add 1 to the count.\n",
    "            if DDsep[i] > xb[j] and DDsep[i] < xb[j+1]:\n",
    "                DD[j] += 1\n",
    "            if DRsep[i] > xb[j] and DRsep[i] < xb[j+1]:\n",
    "                DR[j] += 1\n",
    "            if RRsep[i] > xb[j] and RRsep[i] < xb[j+1]:\n",
    "                RR[j] += 1\n",
    "\n",
    "    corr = np.divide(np.add(DD,np.add(-2*DR,RR)),RR)\n",
    "    for i in range(len(corr)):\n",
    "        #Setting any nans or infs to 0 (for future calculations).\n",
    "        if np.isnan(corr[i]) or np.isinf(corr[i]):\n",
    "            corr[i] = 0\n",
    "    return corr"
   ]
  },
  {
   "cell_type": "markdown",
   "metadata": {},
   "source": [
    "Now we define the power spectrum, $P(k)$, which is the Fourier Transform of the correlation function:\n",
    "    \n",
    "\\begin{eqnarray}\n",
    "    P(k) = 2\\pi\\int^{\\infty}_{0}dr r^2 \\frac{sin(kr)}{kr} \\zeta(r)\n",
    "\\end{eqnarray}\n",
    "\n",
    "Where k is the wavenumber."
   ]
  },
  {
   "cell_type": "code",
   "execution_count": 30,
   "metadata": {},
   "outputs": [],
   "source": [
    "def power_spec(xb,kb,cor):\n",
    "    pk = []\n",
    "    #Integrating for a range of k-values (given by kb):\n",
    "    pk.append([np.trapz(2.0*np.pi*np.multiply(np.multiply(xb,np.sin(i*xb)),cor)*(1.0/i),xb) for i in kb])\n",
    "    return pk"
   ]
  },
  {
   "cell_type": "markdown",
   "metadata": {},
   "source": [
    "The following code generates and plots the simulation.  We will be able to see how the correlation function and power spectrum evolves with time, as the galaxies gravitationally interact."
   ]
  },
  {
   "cell_type": "code",
   "execution_count": null,
   "metadata": {
    "scrolled": true
   },
   "outputs": [
    {
     "name": "stderr",
     "output_type": "stream",
     "text": [
      "<ipython-input-29-21c86281504d>:24: RuntimeWarning: invalid value encountered in true_divide\n",
      "  corr = np.divide(np.add(DD,np.add(-2*DR,RR)),RR)\n"
     ]
    },
    {
     "data": {
      "image/png": "[encoded data removed]",
      "text/plain": [
       "<Figure size 864x432 with 3 Axes>"
      ]
     },
     "metadata": {
      "needs_background": "light"
     },
     "output_type": "display_data"
    },
    {
     "name": "stderr",
     "output_type": "stream",
     "text": [
      "<ipython-input-29-21c86281504d>:24: RuntimeWarning: invalid value encountered in true_divide\n",
      "  corr = np.divide(np.add(DD,np.add(-2*DR,RR)),RR)\n"
     ]
    }
   ],
   "source": [
    "plt.ion() # Set interactive mode on\n",
    "fig = figure(figsize=(12,6)) # Create frame and set size\n",
    "subplots_adjust(left=0.05, bottom=0.05, right=0.95, top=0.95,wspace=0.15,hspace=0.2)\n",
    "# Create one set of axes as the left hand panel in a 1x2 grid\n",
    "if project_3d:\n",
    "    ax1 = subplot(121,projection='3d') # For very basic 3D projection\n",
    "else:\n",
    "    ax1 = subplot(121) # For normal 2D projection\n",
    "xlim(-1,1)  # Set x-axis limits\n",
    "ylim(-1,1)  # Set y-axis limits\n",
    "\n",
    "if project_3d:\n",
    "    points, = ax1.plot([],[],[],'o',markersize=4)  ## For 3D projection\n",
    "else:\n",
    "    points, = ax1.plot([],[],'o',markersize=4) ## For 2D projection\n",
    "\n",
    "ax2 = subplot(222) # Create second set of axes as the top right panel in a 2x2 grid\n",
    "xmax = 6 # Set xaxis limit\n",
    "xlabel('k')\n",
    "ylabel('P(k)')\n",
    "dk=0.1 # Set width of x-axis bins\n",
    "kb = np.arange(0,50.0,dk)  # Set x-axis bin edges\n",
    "kb[0] = 1e-6 # Shift first bin edge by a fraction to avoid showing all the zeros (a cheat, but saves so much time!)\n",
    "xlim(0,kb[-1])\n",
    "ylim(-3.0,3.0) # Reasonable guess for suitable yaxis scale\n",
    "line1, = ax2.plot([],[]) # Define a command that plots a line in this panel\n",
    "\n",
    "ax4 = plt.subplot(224) # Create last set of axes as the bottom right panel in a 2x2 grid\n",
    "xlabel('Separation')\n",
    "ylabel(r'$\\xi_{LS}$')\n",
    "dx=0.05 # Set width of x-axis bins\n",
    "xb = np.arange(0,1.0+dx,dx)  # Set x-axis bin edges\n",
    "xb[0] = 1e-6 # Shift first bin edge by a fraction to avoid showing all the zeros (a cheat, but saves so much time!)\n",
    "ylim(-100,100) # Reasonable guess for suitable yaxis scale\n",
    "line2, = ax4.plot([],[],drawstyle='steps-post')\n",
    "\n",
    "# Define procedure to update positions at each timestep\n",
    "def update(i):\n",
    "    global position,velocity # Get positions and velocities\n",
    "    velocity += acceleration(mass,s_len,position)\n",
    "    position += velocity # Increment positions according to their velocites\n",
    "    position = apply_boundary(position) # Apply boundary conditions\n",
    "    points.set_data(position[0,:], position[1,:]) # Show 2D projection of first 2 position coordinates\n",
    "    correlation = correlation_func(position,rand_position,xb,dx)\n",
    "    power = power_spec(xb,kb,correlation)\n",
    "    if project_3d:\n",
    "        points.set_3d_properties(position[2,:])  ## For 3D projection\n",
    "    line1.set_data(kb,power) # Set the new data for the line in the 2nd panel\n",
    "    line2.set_data(xb,correlation) # Set the new data for the line in the 2nd panel\n",
    "    return points,line1,line2 # Plot the points and the line\n",
    "\n",
    "# Create animation\n",
    "# https://matplotlib.org/api/_as_gen/matplotlib.animation.FuncAnimation.html\n",
    "ani = animation.FuncAnimation(fig, update, frames=Nt,interval = frame_duration)\n",
    "\n",
    "plt.show()\n",
    "# To save as an mpeg file try:\n",
    "ani.save(\"drifters.mp4\")"
   ]
  },
  {
   "cell_type": "code",
   "execution_count": null,
   "metadata": {},
   "outputs": [],
   "source": []
  }
 ],
 "metadata": {
  "kernelspec": {
   "display_name": "Python 3",
   "language": "python",
   "name": "python3"
  },
  "language_info": {
   "codemirror_mode": {
    "name": "ipython",
    "version": 3
   },
   "file_extension": ".py",
   "mimetype": "text/x-python",
   "name": "python",
   "nbconvert_exporter": "python",
   "pygments_lexer": "ipython3",
   "version": "3.8.3"
  }
 },
 "nbformat": 4,
 "nbformat_minor": 4
}
